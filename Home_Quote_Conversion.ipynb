{
 "cells": [
  {
   "cell_type": "markdown",
   "metadata": {},
   "source": [
    "# Homesite Quote Conversion\n",
    "### Pujan Malavia"
   ]
  },
  {
   "cell_type": "code",
   "execution_count": null,
   "metadata": {},
   "outputs": [],
   "source": [
    "from IPython.display import display\n",
    "from PIL import Image\n",
    "path= \"C:/Users/puj83/OneDrive/Portfolio/Homesite_Quote_Conversion/homesite.png\"\n",
    "display(Image.open(path))"
   ]
  },
  {
   "cell_type": "markdown",
   "metadata": {},
   "source": [
    "### Link to Dataset:\n",
    "\n",
    "https://www.kaggle.com/c/homesite-quote-conversion/data"
   ]
  },
  {
   "cell_type": "markdown",
   "metadata": {},
   "source": [
    "### Abstract:\n",
    "Before asking someone on a date or skydiving, it's important to know your likelihood of success. The same goes for quoting home insurance prices to a potential customer. Homesite, a leading provider of homeowners insurance, does not currently have a dynamic conversion rate model that can give them confidence a quoted price will lead to a purchase.\n",
    "\n",
    "Using an anonymized database of information on customer and sales activity, including property and coverage information, Homesite is challenging you to predict which customers will purchase a given quote. Accurately predicting conversion would help Homesite better understand the impact of proposed pricing changes and maintain an ideal portfolio of customer segments.\n",
    "\n",
    "https://www.kaggle.com/c/homesite-quote-conversion"
   ]
  },
  {
   "cell_type": "markdown",
   "metadata": {},
   "source": [
    "### Industry:\n",
    "Insurance"
   ]
  },
  {
   "cell_type": "markdown",
   "metadata": {},
   "source": [
    "### Company Information:\n",
    "\n",
    "Homesite. We've got you covered.\n",
    "\n",
    "Founded in 1997, Homesite insurance was the first company to enable customers to purchase insurance directly online, during a single visit.\n",
    "\n",
    "Since then, we’ve continued to innovate at the pace of our customers and their changing expectations. One thing that’s stayed the same since our founding: our commitment to our customers and partners.\n",
    "\n",
    "We now offer Home, Renter, Life, Small Business, Condo and Flood Insurance.\n",
    "\n",
    "A.M. Best has assigned an initial financial strength rating of A (Excellent) and an insurer credit rating of \"A\"​ to all Homesite Group insurance companies.\n",
    "\n",
    "https://www.linkedin.com/company/homesite-insurance/about/\n",
    "\n",
    "https://go.homesite.com/"
   ]
  },
  {
   "cell_type": "markdown",
   "metadata": {},
   "source": [
    "### Use Case:\n",
    "Predict which customers will purchase a given quote"
   ]
  },
  {
   "cell_type": "markdown",
   "metadata": {},
   "source": [
    "### Tool:\n",
    "Python (Jupyter Notebook)"
   ]
  },
  {
   "cell_type": "markdown",
   "metadata": {},
   "source": [
    "### Initial Dataset:\n",
    "\n",
    "train.csv\n",
    "\n",
    "test.csv"
   ]
  },
  {
   "cell_type": "markdown",
   "metadata": {},
   "source": [
    "### Data:\n",
    "This dataset represents the activity of a large number of customers who are interested in buying policies from Homesite. Each QuoteNumber corresponds to a potential customer and the QuoteConversion_Flag indicates whether the customer purchased a policy.\n",
    "\n",
    "The provided features are anonymized and provide a rich representation of the prospective customer and policy. They include specific coverage information, sales information, personal information, property information, and geographic information. Your task is to predict QuoteConversion_Flag for each QuoteNumber in the test set."
   ]
  },
  {
   "cell_type": "markdown",
   "metadata": {},
   "source": [
    "### Data Fields:\n",
    "QuoteNumber\n",
    "\n",
    "Original_Quote_Date\n",
    "\n",
    "QuoteConversion_Flag\n",
    "\n",
    "Field6\n",
    "\n",
    "Field7\n",
    "............\n",
    "\n",
    "Field11\n",
    "\n",
    "Field12\n",
    "\n",
    "CoverageField1A\n",
    "\n",
    "CoverageField1B\n",
    "............\n",
    "\n",
    "CoverageField11A\n",
    "\n",
    "CoverageField11B\n",
    "\n",
    "SalesField1A\n",
    "\n",
    "SalesField1B\n",
    "............\n",
    "\n",
    "SalesField14\n",
    "\n",
    "SalesField15\n",
    "\n",
    "PersonalField1\n",
    "\n",
    "PersonalField2\n",
    "............\n",
    "\n",
    "PersonalField83\n",
    "\n",
    "PersonalField84\n",
    "\n",
    "PropertyField1A\n",
    "\n",
    "PropertyField1B\n",
    "............\n",
    "\n",
    "PropertyField39A\n",
    "\n",
    "PropertyField39B\n",
    "\n",
    "GeographicField1A\n",
    "\n",
    "GeographicField1B\n",
    "............\n",
    "\n",
    "GeographicField63\n",
    "\n",
    "GeographicField64"
   ]
  },
  {
   "cell_type": "markdown",
   "metadata": {},
   "source": [
    "### Import Libraries"
   ]
  },
  {
   "cell_type": "code",
   "execution_count": null,
   "metadata": {},
   "outputs": [],
   "source": [
    "# !pip uninstall pandas\n",
    "# !pip install pandas==0.19.2\n",
    "# !pip install pandas-compat\n",
    "# !pip install ggplot\n",
    "# !pip uninstall pandas\n",
    "# !pip install --user pandas==0.23.4"
   ]
  },
  {
   "cell_type": "code",
   "execution_count": 61,
   "metadata": {},
   "outputs": [],
   "source": [
    "# import ggplot\n",
    "import numpy as np\n",
    "import pandas as pd\n",
    "# import pandas_compat as pdc\n",
    "from sklearn import preprocessing\n",
    "import xgboost as xgb\n",
    "import seaborn as sns\n",
    "from pandas import Timestamp\n",
    "from sklearn.preprocessing import LabelEncoder\n",
    "# from pandas.lib import Timestamp\n",
    "from sklearn.preprocessing import OneHotEncoder\n",
    "from sklearn.compose import ColumnTransformer\n",
    "from sklearn.model_selection import train_test_split\n",
    "from itertools import chain"
   ]
  },
  {
   "cell_type": "markdown",
   "metadata": {},
   "source": [
    "### Import Dataset(s)"
   ]
  },
  {
   "cell_type": "code",
   "execution_count": 62,
   "metadata": {},
   "outputs": [],
   "source": [
    "# read data\n",
    "train_file = 'C:/Users/puj83/OneDrive/Portfolio/Homesite_Quote_Conversion/train.csv'\n",
    "test_file = 'C:/Users/puj83/OneDrive/Portfolio/Homesite_Quote_Conversion/test.csv'\n",
    "sample_submission = 'C:/Users/puj83/OneDrive/Portfolio/Homesite_Quote_Conversion/sample_submission.csv'"
   ]
  },
  {
   "cell_type": "code",
   "execution_count": 3,
   "metadata": {},
   "outputs": [],
   "source": [
    "xgb_params = {\n",
    "    'seed': 0,\n",
    "    'colsample_bytree': 0.8,\n",
    "    'silent': 1,\n",
    "    'subsample': .85,\n",
    "    'eta': 0.0275,\n",
    "    'objective': 'binary:logitraw',\n",
    "    'num_parallel_tree': 7,\n",
    "    'max_depth': 5,\n",
    "    'nthread': 22,\n",
    "    'eval_metric': 'auc',\n",
    "}"
   ]
  },
  {
   "cell_type": "code",
   "execution_count": 4,
   "metadata": {},
   "outputs": [],
   "source": [
    "top111 = ['Field12', 'PersonalField52', 'PersonalField80', 'PersonalField44', 'Field9',\n",
    "          'PropertyField7', 'PropertyField12', 'CoverageField5B', 'PersonalField42', 'PersonalField45',\n",
    "          'PersonalField81', 'PropertyField8', 'PersonalField79', 'GeographicField45B', 'PropertyField22',\n",
    "          'PersonalField75', 'PersonalField31', 'PropertyField19', 'PropertyField31', 'GeographicField11A',\n",
    "          'PersonalField23', 'GeographicField21B', 'PersonalField4A', 'Field10', 'GeographicField16B',\n",
    "          'GeographicField20A', 'PersonalField25', 'PersonalField4B', 'PropertyField3', 'GeographicField17A',\n",
    "          'GeographicField59B', 'GeographicField7B', 'GeographicField8A', 'Year', 'GeographicField6B',\n",
    "          'PersonalField14',\n",
    "          'GeographicField45A', 'GeographicField14B', 'SalesField12', 'CoverageField11A', 'CoverageField5A', 'Month',\n",
    "          'PropertyField33', 'PersonalField5', 'CoverageField11B', 'GeographicField11B', 'GeographicField23B',\n",
    "          'PropertyField39B', 'CoverageField3A', 'GeographicField1B', 'GeographicField17B', 'PropertyField39A',\n",
    "          'GeographicField41B', 'CoverageField6A', 'SalesField9', 'PersonalField16', 'PersonalField26',\n",
    "          'PropertyField24A', 'Field8', 'GeographicField28A', 'CoverageField3B', 'SalesField2A', 'GeographicField19B',\n",
    "          'GeographicField43A', 'PropertyField16B', 'PropertyField16A', 'PropertyField1B', 'CoverageField1B',\n",
    "          'PropertyField1A', 'GeographicField48B', 'PersonalField11', 'CoverageField1A', 'PersonalField15',\n",
    "          'GeographicField5B', 'PropertyField34', 'CoverageField8', 'PersonalField82', 'SalesField2B',\n",
    "          'PropertyField35', 'CoverageField2B', 'SalesField10', 'PropertyField21A', 'SalesField3', 'CoverageField9',\n",
    "          'SalesField7', 'Weekday', 'PersonalField13', 'PropertyField21B', 'SalesField6', 'SalesField1A',\n",
    "          'PersonalField9', 'SalesField4', 'PersonalField12', 'PersonalField27', 'PersonalField10B', 'Field7',\n",
    "          'SalesField1B', 'PersonalField84', 'PersonalField2', 'PersonalField1', 'SalesField5', 'PersonalField10A',\n",
    "          'PropertyField37', 'PropertyField29', 'GeographicField4B', 'PropertyField2B', 'GeographicField1A',\n",
    "          'GeographicField61B', 'Field11', 'PersonalField76', 'PropertyField30']"
   ]
  },
  {
   "cell_type": "code",
   "execution_count": 5,
   "metadata": {},
   "outputs": [],
   "source": [
    "drop_out = ['GeographicField19B', 'PropertyField7', 'GeographicField17A', 'GeographicField28A',\n",
    "            'GeographicField21B', 'GeographicField7B', 'CoverageField11B', 'GeographicField6B', 'GeographicField45A',\n",
    "            'PersonalField25', 'Month', 'CoverageField5A', 'GeographicField8A', 'GeographicField1B',\n",
    "            'CoverageField6A_CoverageField6B', 'PersonalField23', 'Field11', 'PropertyField2B', 'SalesField12',\n",
    "            'GeographicField41B',\n",
    "            'PropertyField16A', 'Field10', 'PropertyField3', 'PropertyField16B', 'GeographicField1A',\n",
    "            'GeographicField20A', 'PersonalField81', 'GeographicField16B', 'GeographicField59B', 'PersonalField79',\n",
    "            'CoverageField1A_CoverageField3A', 'CoverageField3B_CoverageField4B', 'PropertyField22',\n",
    "            'GeographicField61B',\n",
    "            'CoverageField3A_PropertyField21A', 'PropertyField12', 'CoverageField2A_CoverageField3A',\n",
    "            'CoverageField2B_CoverageField3B', 'PropertyField8', 'PropertyField30', 'GeographicField14B',\n",
    "            'PersonalField31',\n",
    "            'PropertyField21A', 'CoverageField3A_CoverageField4A', 'PropertyField31', 'CoverageField11A',\n",
    "            'PropertyField19', 'GeographicField45B', 'CoverageField1A', 'PersonalField75',\n",
    "            'GeographicField8A_GeographicField13A', 'CoverageField3B_PropertyField21B',\n",
    "            'CoverageField1B_CoverageField3B', 'GeographicField6A_GeographicField13A', 'CoverageField5B',\n",
    "            'PersonalField42', 'PersonalField45', 'PersonalField76', 'GeographicField6A_GeographicField8A',\n",
    "            'PersonalField80', 'Field9', 'CoverageField3A', 'CoverageField3B',\n",
    "            'GeographicField8A_GeographicField11A', 'GeographicField11A_GeographicField13A',\n",
    "            'GeographicField4B',\n",
    "            'CoverageField2B', 'Field12', 'PropertyField21B', 'CoverageField1B', 'PersonalField44',\n",
    "            'GeographicField6A_GeographicField11A', 'PersonalField52']"
   ]
  },
  {
   "cell_type": "code",
   "execution_count": 6,
   "metadata": {},
   "outputs": [],
   "source": [
    "interactions2way = [\n",
    "    (\"CoverageField1B\", \"PropertyField21B\"),\n",
    "    (\"GeographicField6A\", \"GeographicField8A\"),\n",
    "    (\"GeographicField6A\", \"GeographicField13A\"),\n",
    "    (\"GeographicField8A\", \"GeographicField13A\"),\n",
    "    (\"GeographicField11A\", \"GeographicField13A\"),\n",
    "    (\"GeographicField8A\", \"GeographicField11A\"),\n",
    "    (\"GeographicField6A\", \"GeographicField11A\"),\n",
    "    (\"CoverageField6A\", \"CoverageField6B\"),\n",
    "    (\"CoverageField3A\", \"CoverageField4A\"),\n",
    "    (\"CoverageField2B\", \"CoverageField3B\"),\n",
    "    (\"CoverageField1A\", \"CoverageField3A\"),\n",
    "    (\"CoverageField3B\", \"CoverageField4B\"),\n",
    "    (\"CoverageField2A\", \"CoverageField3A\"),\n",
    "    (\"CoverageField1B\", \"CoverageField3B\"),\n",
    "    (\"CoverageField3B\", \"PropertyField21B\"),\n",
    "    (\"CoverageField3A\", \"PropertyField21A\"),\n",
    "    (\"CoverageField1B\", \"PropertyField16B\"),\n",
    "    (\"Weekday\", \"SalesField7\"),\n",
    "    (\"PersonalField9\", \"CoverageField6B\"),\n",
    "    (\"PersonalField12\", \"CoverageField6A\"),\n",
    "    (\"PropertyField16B\", \"PropertyField21A\"),\n",
    "    (\"PersonalField12\", \"Field8\"),\n",
    "    (\"PropertyField32\", \"PersonalField9\"),\n",
    "    (\"Field6\", \"CoverageField6A\"),\n",
    "    (\"PersonalField12\", \"CoverageField6A\"),\n",
    "    (\"CoverageField6A\", \"PropertyField34\"),\n",
    "    (\"PersonalField33\", \"PropertyField8\"),\n",
    "    (\"CoverageField2A\", \"CoverageField3B\")\n",
    "]"
   ]
  },
  {
   "cell_type": "code",
   "execution_count": 7,
   "metadata": {},
   "outputs": [],
   "source": [
    "interactions3way = [('PersonalField23', 'PersonalField9', 'PropertyField37'),\n",
    "                    ('CoverageField3A', 'PersonalField63', 'PropertyField21A'),\n",
    "                    ('CoverageField3A', 'CoverageField4A', 'PersonalField76'),\n",
    "                    ('CoverageField3A', 'CoverageField4A', 'GeographicField62A'),\n",
    "                    ('CoverageField6A', 'PersonalField69', 'PersonalField9'),\n",
    "                    ('CoverageField6A', 'PersonalField71', 'PersonalField9'),\n",
    "                    ('GeographicField10B', 'GeographicField13A', 'PersonalField9'),\n",
    "                    ('GeographicField8A', 'PersonalField71', 'PersonalField9'),\n",
    "                    ('CoverageField2B', 'PersonalField75', 'PropertyField16B'),\n",
    "                    ('CoverageField6A', 'PersonalField49', 'PropertyField29'),\n",
    "                    ('CoverageField4B', 'PersonalField39', 'PropertyField16B'),\n",
    "                    ('CoverageField11B', 'PersonalField6', 'SalesField2B'),\n",
    "                    ('CoverageField11B', 'PersonalField36', 'SalesField2B'),\n",
    "                    ('CoverageField2B', 'PropertyField16B', 'PropertyField8'),\n",
    "                    ('CoverageField3A', 'GeographicField21A', 'PropertyField21B'),\n",
    "                    ('GeographicField11A', 'PersonalField48', 'PersonalField9'),\n",
    "                    ('CoverageField11B', 'PersonalField26', 'SalesField2B'),\n",
    "                    ('CoverageField1B', 'CoverageField3A', 'PersonalField61'),\n",
    "                    ('CoverageField1A', 'PropertyField16A', 'PropertyField36'),\n",
    "                    ('PersonalField9', 'PropertyField10', 'PropertyField32'),\n",
    "                    ('GeographicField11A', 'GeographicField62A', 'PersonalField12'),\n",
    "                    ('Field10', 'PersonalField9', 'PropertyField34'),\n",
    "                    ('CoverageField2B', 'CoverageField3A', 'PersonalField8'),\n",
    "                    ('Field11', 'PropertyField34', 'SalesField6'),\n",
    "                    ('PersonalField19', 'PersonalField60', 'PropertyField8')]"
   ]
  },
  {
   "cell_type": "code",
   "execution_count": 8,
   "metadata": {},
   "outputs": [],
   "source": [
    "interactions4way = [('Field8', 'PersonalField12', 'PersonalField75', 'PropertyField37'),\n",
    "                    ('CoverageField6A', 'PersonalField12', 'PropertyField37', 'PropertyField8'),\n",
    "                    ('Field8', 'PersonalField9', 'PropertyField3', 'PropertyField37'),\n",
    "                    ('CoverageField6A', 'Field8', 'PersonalField84', 'PersonalField9'),\n",
    "                    ('CoverageField8', 'PersonalField12', 'PersonalField80', 'PropertyField37'),\n",
    "                    ('CoverageField8', 'Field8', 'PersonalField12', 'PersonalField84'),\n",
    "                    ('CoverageField5A', 'GeographicField11A', 'PersonalField9', 'PropertyField37'),\n",
    "                    ('CoverageField1B', 'CoverageField3B', 'CoverageField5A', 'PropertyField22'),\n",
    "                    ('CoverageField1A', 'CoverageField3A', 'PersonalField82', 'PropertyField19'),\n",
    "                    ('CoverageField1A', 'CoverageField3A', 'PersonalField11', 'PropertyField19'),\n",
    "                    ('CoverageField5A', 'Field8', 'PersonalField12', 'PersonalField42'),\n",
    "                    ('CoverageField6A', 'Field11', 'PersonalField9', 'PropertyField12'),\n",
    "                    ('CoverageField6A', 'CoverageField8', 'PropertyField35', 'SalesField3'),\n",
    "                    ('CoverageField3A', 'PersonalField82', 'PropertyField21A', 'Year'),\n",
    "                    ('CoverageField1B', 'CoverageField3B', 'PersonalField42', 'PropertyField8'),\n",
    "                    ('CoverageField1B', 'CoverageField3A', 'PersonalField1', 'PropertyField16A'),\n",
    "                    ('CoverageField1B', 'CoverageField3B', 'PropertyField22', 'PropertyField8'),\n",
    "                    ('CoverageField6A', 'PersonalField45', 'PersonalField9', 'PropertyField29'),\n",
    "                    ('CoverageField5A', 'PersonalField1', 'PropertyField35', 'SalesField3'),\n",
    "                    ('CoverageField1A', 'CoverageField3A', 'Field12', 'PersonalField27'),\n",
    "                    ('CoverageField5A', 'CoverageField8', 'Field11', 'PropertyField29'),\n",
    "                    ('CoverageField3B', 'PersonalField25', 'PersonalField45', 'PropertyField21B'),\n",
    "                    ('CoverageField2B', 'CoverageField3B', 'GeographicField17A', 'PersonalField5'),\n",
    "                    ('CoverageField1A', 'CoverageField3A', 'PersonalField75', 'Year'),\n",
    "                    ('Field11', 'PersonalField12', 'PersonalField25', 'PropertyField30')]\n"
   ]
  },
  {
   "cell_type": "code",
   "execution_count": 9,
   "metadata": {},
   "outputs": [],
   "source": [
    "interactions2way_list = list(np.unique(list(chain(*interactions2way))))\n",
    "interactions3way_list = list(np.unique(list(chain(*interactions3way))))\n",
    "interactions4way_list = list(np.unique(list(chain(*interactions4way))))\n",
    "\n",
    "interactions_list = interactions2way_list + interactions3way_list + interactions4way_list\n",
    "tmp_features = list(np.setdiff1d(interactions_list, top111))\n",
    "\n",
    "tc_features = []"
   ]
  },
  {
   "cell_type": "code",
   "execution_count": 67,
   "metadata": {},
   "outputs": [],
   "source": [
    "def get_data():\n",
    "    global tc_features\n",
    "\n",
    "    train = pd.read_csv(train_file)\n",
    "    test = pd.read_csv(test_file)\n",
    "\n",
    "    y_train = train.QuoteConversion_Flag\n",
    "\n",
    "    train = train.drop(['QuoteNumber', 'QuoteConversion_Flag'], axis=1)\n",
    "    test = test.drop('QuoteNumber', axis=1)\n",
    "\n",
    "    ntrain = train.shape[0]\n",
    "\n",
    "    train_test = pd.concat((train, test), axis=0)\n",
    "\n",
    "    train_test['Date'] = pd.to_datetime(train_test['Original_Quote_Date'])\n",
    "\n",
    "    train_test['Year'] = train_test['Date'].dt.year\n",
    "    train_test['Month'] = train_test['Date'].dt.month\n",
    "    train_test['Day'] = train_test['Date'].dt.day\n",
    "    train_test['Weekday'] = train_test['Date'].dt.dayofweek\n",
    "\n",
    "    train_test['Field10'] = train_test['Field10'].apply(lambda x: x.replace(',', '')).astype(np.int32)\n",
    "    train_test['PropertyField37'] = train_test['PropertyField37'].apply(lambda x: -1 if x == ' ' else x)\n",
    "    train_test['GeographicField63'] = train_test['GeographicField63'].apply(lambda x: -1 if x == ' ' else x)\n",
    "\n",
    "    train_test = train_test.drop(['Date', 'Original_Quote_Date'], axis=1)\n",
    "    train_test = train_test.fillna(-1)\n",
    "\n",
    "    categoricals = [x for x in train_test.columns if train_test[x].dtype == 'object']\n",
    "\n",
    "    for c in categoricals:\n",
    "        lbl = preprocessing.LabelEncoder()\n",
    "        lbl.fit(list(train_test[c].values))\n",
    "        train_test[c] = lbl.transform(list(train_test[c].values))\n",
    "\n",
    "    train = train_test.iloc[:ntrain, :].copy().reset_index(drop=True)\n",
    "    test = train_test.iloc[ntrain:, :].copy().reset_index(drop=True)\n",
    "\n",
    "    features = list(train.columns)\n",
    "    features = np.intersect1d(features, top111 + tmp_features)\n",
    "\n",
    "    x_train = train[features].copy()\n",
    "    x_test = test[features].copy()\n",
    "\n",
    "    x_train['NaNCount'] = x_train.apply(lambda x: np.sum(x == -1), axis=1)\n",
    "    x_test['NaNCount'] = x_test.apply(lambda x: np.sum(x == -1), axis=1)\n",
    "\n",
    "    for A, B in interactions2way:\n",
    "        feat = \"_\".join([A, B])\n",
    "        x_train[feat] = x_train[A] - x_train[B]\n",
    "        x_test[feat] = x_test[A] - x_test[B]\n",
    "\n",
    "    for A, B, C in interactions3way:\n",
    "        feat = \"_\".join([A, B, C])\n",
    "        tc_features += [feat]\n",
    "        x_train[feat] = x_train[A] - x_train[B] - x_train[C]\n",
    "        x_test[feat] = x_test[A] - x_test[B] - x_test[C]\n",
    "\n",
    "    for A, B, C, D in interactions4way:\n",
    "        feat = \"_\".join([A, B, C, D])\n",
    "        tc_features += [feat]\n",
    "        x_train[feat] = x_train[A] - x_train[B] - x_train[C] - x_train[D]\n",
    "        x_test[feat] = x_test[A] - x_test[B] - x_test[C] - x_test[D]\n",
    "\n",
    "    x_train.drop(tmp_features, axis=1, inplace=True)\n",
    "    x_test.drop(tmp_features, axis=1, inplace=True)\n",
    "\n",
    "    x_train.drop(drop_out[-25:], axis=1, inplace=True)\n",
    "    x_test.drop(drop_out[-25:], axis=1, inplace=True)\n",
    "\n",
    "    return np.array(x_train), np.array(y_train), np.array(x_test)"
   ]
  },
  {
   "cell_type": "code",
   "execution_count": 68,
   "metadata": {},
   "outputs": [
    {
     "name": "stdout",
     "output_type": "stream",
     "text": [
      "(260753, 164) (173836, 164)\n"
     ]
    }
   ],
   "source": [
    "if __name__ == \"__main__\":\n",
    "    x_train, y_train, x_test = get_data()\n",
    "    print (x_train.shape, x_test.shape)"
   ]
  },
  {
   "cell_type": "code",
   "execution_count": 69,
   "metadata": {},
   "outputs": [
    {
     "name": "stdout",
     "output_type": "stream",
     "text": [
      "[17:33:05] WARNING: C:\\Users\\Administrator\\workspace\\xgboost-win64_release_1.1.0\\src\\learner.cc:480: \n",
      "Parameters: { silent } might not be used.\n",
      "\n",
      "  This may not be accurate due to some parameters are only used in language bindings but\n",
      "  passed down to XGBoost core.  Or some parameters are not used but slip through this\n",
      "  verification. Please open an issue if you find above cases.\n",
      "\n",
      "\n",
      "[17:33:24] WARNING: C:\\Users\\Administrator\\workspace\\xgboost-win64_release_1.1.0\\src\\learner.cc:480: \n",
      "Parameters: { silent } might not be used.\n",
      "\n",
      "  This may not be accurate due to some parameters are only used in language bindings but\n",
      "  passed down to XGBoost core.  Or some parameters are not used but slip through this\n",
      "  verification. Please open an issue if you find above cases.\n",
      "\n",
      "\n"
     ]
    }
   ],
   "source": [
    "x_train_tc = x_train.copy()\n",
    "ntcfeat = len(tc_features)\n",
    "\n",
    "x_train[:, -ntcfeat:] = 0\n",
    "ntrain = x_train.shape[0]\n",
    "best_nrounds = 10\n",
    "\n",
    "dtrain = xgb.DMatrix(x_train, label=y_train)\n",
    "dtrain_tc = xgb.DMatrix(x_train_tc, label=y_train)\n",
    "gbdt = xgb.train(xgb_params, dtrain, best_nrounds - 5)\n",
    "xgb_params['eta'] = 0.01\n",
    "gbdt = xgb.train(xgb_params, dtrain_tc, 10, xgb_model=gbdt)\n",
    "dtest = xgb.DMatrix(x_test)\n",
    "\n",
    "submission = pd.read_csv(sample_submission)\n",
    "submission.iloc[:, 1] = gbdt1.predict(dtest).reshape((-1, 1))\n",
    "submission.to_csv('C:/Users/puj83/OneDrive/Portfolio/Homesite_Quote_Conversion/submission.csv', index=False)"
   ]
  }
 ],
 "metadata": {
  "kernelspec": {
   "display_name": "Python 3",
   "language": "python",
   "name": "python3"
  },
  "language_info": {
   "codemirror_mode": {
    "name": "ipython",
    "version": 3
   },
   "file_extension": ".py",
   "mimetype": "text/x-python",
   "name": "python",
   "nbconvert_exporter": "python",
   "pygments_lexer": "ipython3",
   "version": "3.7.6"
  }
 },
 "nbformat": 4,
 "nbformat_minor": 4
}
